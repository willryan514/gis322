{
  "nbformat": 4,
  "nbformat_minor": 0,
  "metadata": {
    "colab": {
      "name": "Module1Assignment.ipynb",
      "provenance": [],
      "collapsed_sections": []
    },
    "kernelspec": {
      "name": "python3",
      "display_name": "Python 3"
    }
  },
  "cells": [
    {
      "cell_type": "code",
      "metadata": {
        "id": "WK68e0wPFQCc",
        "colab_type": "code",
        "colab": {}
      },
      "source": [
        "#import 'random' module\n",
        "import random\n",
        "\n",
        "#create teamsList and newList for randomization and move\n",
        "teamsList = ['team1','team2','team3','team4','team5','team6','team7','team8','team9','team10']\n",
        "newList = []\n",
        "\n",
        "#define function \n",
        "def order():\n",
        "    while len(teamsList) > 0: #once list is empty, loop will stop\n",
        "        ran1 = random.choice(teamsList) #selects random element from teamsList and assigns it to variable ran1\n",
        "        teamsList.remove(ran1) #removes ran1 from teamsList\n",
        "        newList.append(ran1) #appends ran1 to newList"
      ],
      "execution_count": 0,
      "outputs": []
    },
    {
      "cell_type": "code",
      "metadata": {
        "id": "fplkNeuqHnEU",
        "colab_type": "code",
        "colab": {}
      },
      "source": [
        "order() #call the function"
      ],
      "execution_count": 0,
      "outputs": []
    },
    {
      "cell_type": "code",
      "metadata": {
        "id": "sb3FgSSWFdzu",
        "colab_type": "code",
        "colab": {
          "base_uri": "https://localhost:8080/",
          "height": 54
        },
        "outputId": "5fbaeb59-3d29-4477-9513-1a1cf6414da7"
      },
      "source": [
        "print(teamsList)\n",
        "print(newList)"
      ],
      "execution_count": 27,
      "outputs": [
        {
          "output_type": "stream",
          "text": [
            "[]\n",
            "['team3', 'team6', 'team9', 'team8', 'team1', 'team4', 'team7', 'team5', 'team2', 'team10']\n"
          ],
          "name": "stdout"
        }
      ]
    },
    {
      "cell_type": "code",
      "metadata": {
        "id": "8TE75wE4Fg72",
        "colab_type": "code",
        "colab": {}
      },
      "source": [
        ""
      ],
      "execution_count": 0,
      "outputs": []
    }
  ]
}